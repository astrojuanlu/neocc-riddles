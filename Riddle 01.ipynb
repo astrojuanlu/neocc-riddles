{
 "cells": [
  {
   "cell_type": "markdown",
   "metadata": {},
   "source": [
    "# Riddle #1: An NEO with a peculiar orbit\n",
    "\n",
    "**Author: Juan Luis Cano Rodríguez <hello@juanlu.space>**\n",
    "\n",
    "## Statement\n",
    "\n",
    "http://neo.ssa.esa.int/neocc-riddles\n",
    "\n",
    "> The recently discovered asteroid 2020 HY5, firstly observed by Mt. Lem­\n",
    "mon Survey on 23 April 2020, has an interesting particularity: it roughly\n",
    "passes half of its orbital period of about 387 days inside 1.3 au and the\n",
    "other half outside. Such distance is used for the definition of NEOs: the\n",
    "perihelion distance of an NEO must be below 1.3 au. 2020 HY5 actually\n",
    "spends 192.0 days below 1.3 au and 194.9 days above that distance.\n",
    ">\n",
    "> And here is a riddle:\n",
    "> \n",
    "> - Assuming an NEO that spends exactly 50% of its time inside 1.3 au and\n",
    "50% of its time outside 1.3 au, what would be the maximum aphelion\n",
    "such an NEO could have?\n",
    "> - As a bonus, would you be able to find similar cases in our database?\n",
    "(Hint: you can use the advanced search functionality in our left menu)"
   ]
  },
  {
   "cell_type": "markdown",
   "metadata": {},
   "source": [
    "## Solution"
   ]
  },
  {
   "cell_type": "code",
   "execution_count": 1,
   "metadata": {},
   "outputs": [],
   "source": [
    "import numpy as np\n",
    "\n",
    "import matplotlib.pyplot as plt\n",
    "\n",
    "from sympy import init_printing, symbols, solve, nsolve, diff, Eq, sin, cos, Function, pi\n",
    "from sympy.abc import a, b, e, E, r, p, nu\n",
    "\n",
    "init_printing()"
   ]
  },
  {
   "cell_type": "markdown",
   "metadata": {},
   "source": [
    "Remembering the second Kepler law of planetary motion:\n",
    "\n",
    "> The area of the sector traced by the radius vector from the sun, between any two positions of a planet in its orbit, is proportional to the time occupied in passing from one position to the other.\n",
    "> (Battin, 1999)\n",
    "\n",
    "Therefore, if the time inside the NEO distance $R_0$ is the same as the time outside, the subtended areas must be the same."
   ]
  },
  {
   "cell_type": "markdown",
   "metadata": {},
   "source": [
    "Area of the focal sector of the ellipse:"
   ]
  },
  {
   "cell_type": "code",
   "execution_count": 2,
   "metadata": {},
   "outputs": [
    {
     "data": {
      "image/png": "[encoded data removed]",
      "text/latex": [
       "$\\displaystyle \\frac{a b \\left(E - e \\sin{\\left(E \\right)}\\right)}{2}$"
      ],
      "text/plain": [
       "a⋅b⋅(E - e⋅sin(E))\n",
       "──────────────────\n",
       "        2         "
      ]
     },
     "execution_count": 2,
     "metadata": {},
     "output_type": "execute_result"
    }
   ],
   "source": [
    "A = (E - e * sin(E)) * a * b / 2\n",
    "A"
   ]
  },
  {
   "cell_type": "markdown",
   "metadata": {},
   "source": [
    "where $E$ is the eccentric anomaly, $a$ and $b$ are the semimajor and semiminor axis respectively, and $e$ is the eccentricity."
   ]
  },
  {
   "cell_type": "markdown",
   "metadata": {},
   "source": [
    "We now equate the area for $E = E_0$ to the remaining area, that is $A - A(E_0)$, where $E_0$ is the eccentric anomaly at which $r = R_0$:"
   ]
  },
  {
   "cell_type": "code",
   "execution_count": 3,
   "metadata": {},
   "outputs": [
    {
     "data": {
      "image/png": "[encoded data removed]",
      "text/latex": [
       "$\\displaystyle \\operatorname{E_{0}}{\\left(e \\right)}$"
      ],
      "text/plain": [
       "E₀(e)"
      ]
     },
     "execution_count": 3,
     "metadata": {},
     "output_type": "execute_result"
    }
   ],
   "source": [
    "E0 = Function(\"E_0\")(e)\n",
    "E0"
   ]
  },
  {
   "cell_type": "code",
   "execution_count": 4,
   "metadata": {},
   "outputs": [
    {
     "data": {
      "image/png": "[encoded data removed]",
      "text/latex": [
       "$\\displaystyle \\frac{a b \\left(- e \\sin{\\left(\\operatorname{E_{0}}{\\left(e \\right)} \\right)} + \\operatorname{E_{0}}{\\left(e \\right)}\\right)}{2} = - \\frac{a b \\left(- e \\sin{\\left(\\operatorname{E_{0}}{\\left(e \\right)} \\right)} + \\operatorname{E_{0}}{\\left(e \\right)}\\right)}{2} + \\frac{\\pi a b}{2}$"
      ],
      "text/plain": [
       "a⋅b⋅(-e⋅sin(E₀(e)) + E₀(e))     a⋅b⋅(-e⋅sin(E₀(e)) + E₀(e))   π⋅a⋅b\n",
       "─────────────────────────── = - ─────────────────────────── + ─────\n",
       "             2                               2                  2  "
      ]
     },
     "execution_count": 4,
     "metadata": {},
     "output_type": "execute_result"
    }
   ],
   "source": [
    "areas_eq = Eq(A.subs(E, E0), A.subs(E, pi) - A.subs(E, E0))\n",
    "areas_eq"
   ]
  },
  {
   "cell_type": "code",
   "execution_count": 5,
   "metadata": {},
   "outputs": [
    {
     "data": {
      "image/png": "[encoded data removed]",
      "text/latex": [
       "$\\displaystyle \\sin{\\left(\\operatorname{E_{0}}{\\left(e \\right)} \\right)} = \\frac{\\operatorname{E_{0}}{\\left(e \\right)} - \\frac{\\pi}{2}}{e}$"
      ],
      "text/plain": [
       "                     π\n",
       "             E₀(e) - ─\n",
       "                     2\n",
       "sin(E₀(e)) = ─────────\n",
       "                 e    "
      ]
     },
     "execution_count": 5,
     "metadata": {},
     "output_type": "execute_result"
    }
   ],
   "source": [
    "E0_eq = Eq(sin(E0), solve(areas_eq, sin(E0))[0])\n",
    "E0_eq"
   ]
  },
  {
   "cell_type": "markdown",
   "metadata": {},
   "source": [
    "This is the same as\n",
    "\n",
    "$$E_0 - e \\sin(E_0) = \\frac{\\pi}{2}$$"
   ]
  },
  {
   "cell_type": "markdown",
   "metadata": {},
   "source": [
    "Now we use the polar equation of the ellipse:"
   ]
  },
  {
   "cell_type": "code",
   "execution_count": 6,
   "metadata": {},
   "outputs": [
    {
     "data": {
      "image/png": "[encoded data removed]",
      "text/latex": [
       "$\\displaystyle r = \\frac{p}{e \\cos{\\left(\\nu \\right)} + 1}$"
      ],
      "text/plain": [
       "         p      \n",
       "r = ────────────\n",
       "    e⋅cos(ν) + 1"
      ]
     },
     "execution_count": 6,
     "metadata": {},
     "output_type": "execute_result"
    }
   ],
   "source": [
    "polar_eq = Eq(r, p / (1 + e * cos(nu)))\n",
    "polar_eq"
   ]
  },
  {
   "cell_type": "markdown",
   "metadata": {},
   "source": [
    "Where $p$ is the semilatus rectum and $nu$ is the true anomaly."
   ]
  },
  {
   "cell_type": "markdown",
   "metadata": {},
   "source": [
    "Using the relation between true anomaly $\\nu$ and eccentric anomaly $E$:\n",
    "\n",
    "$$\\cos{\\nu} = \\frac{\\cos{E} - e}{1 - e \\cos{E}}$$"
   ]
  },
  {
   "cell_type": "markdown",
   "metadata": {},
   "source": [
    "We can obtain an expression for $p$ in terms of $E$:"
   ]
  },
  {
   "cell_type": "code",
   "execution_count": 7,
   "metadata": {},
   "outputs": [
    {
     "data": {
      "image/png": "[encoded data removed]",
      "text/latex": [
       "$\\displaystyle R_{0}$"
      ],
      "text/plain": [
       "R₀"
      ]
     },
     "execution_count": 7,
     "metadata": {},
     "output_type": "execute_result"
    }
   ],
   "source": [
    "R0 = symbols(\"R_0\")\n",
    "R0"
   ]
  },
  {
   "cell_type": "code",
   "execution_count": 8,
   "metadata": {},
   "outputs": [
    {
     "data": {
      "image/png": "[encoded data removed]",
      "text/latex": [
       "$\\displaystyle \\frac{R_{0} \\left(e^{2} - 1\\right)}{e \\cos{\\left(\\operatorname{E_{0}}{\\left(e \\right)} \\right)} - 1}$"
      ],
      "text/plain": [
       "     ⎛ 2    ⎞   \n",
       "  R₀⋅⎝e  - 1⎠   \n",
       "────────────────\n",
       "e⋅cos(E₀(e)) - 1"
      ]
     },
     "execution_count": 8,
     "metadata": {},
     "output_type": "execute_result"
    }
   ],
   "source": [
    "p_eq = solve(\n",
    "    polar_eq.subs(cos(nu), (cos(E) - e) / (1 - e * cos(E))).subs(E, E0).subs(r, R0),\n",
    "    p\n",
    ")[0]\n",
    "p_eq"
   ]
  },
  {
   "cell_type": "markdown",
   "metadata": {},
   "source": [
    "And now we use the relation between the apocenter $r_a$ and the semilatus rectum $p$ to solve for our variable of interest:"
   ]
  },
  {
   "cell_type": "code",
   "execution_count": 9,
   "metadata": {},
   "outputs": [
    {
     "data": {
      "image/png": "[encoded data removed]",
      "text/latex": [
       "$\\displaystyle r_{a}$"
      ],
      "text/plain": [
       "rₐ"
      ]
     },
     "execution_count": 9,
     "metadata": {},
     "output_type": "execute_result"
    }
   ],
   "source": [
    "r_a = symbols(\"r_a\")\n",
    "r_a"
   ]
  },
  {
   "cell_type": "code",
   "execution_count": 10,
   "metadata": {},
   "outputs": [
    {
     "data": {
      "image/png": "[encoded data removed]",
      "text/latex": [
       "$\\displaystyle - \\frac{R_{0} \\left(e + 1\\right)}{e \\cos{\\left(\\operatorname{E_{0}}{\\left(e \\right)} \\right)} - 1}$"
      ],
      "text/plain": [
       "  -R₀⋅(e + 1)   \n",
       "────────────────\n",
       "e⋅cos(E₀(e)) - 1"
      ]
     },
     "execution_count": 10,
     "metadata": {},
     "output_type": "execute_result"
    }
   ],
   "source": [
    "r_a_eq = solve(Eq(r_a * (1 - e), p_eq), r_a)[0]\n",
    "r_a_eq"
   ]
  },
  {
   "cell_type": "markdown",
   "metadata": {},
   "source": [
    "The problem statement suggests that the aphelion has a maximum. Is that true? Let's visualize it numerically first.\n",
    "\n",
    "If we fix the eccentricity $e$, we get a value of the aphelion:\n",
    "\n",
    "- $e = 0.1$\n",
    "- $R_0 = 1.3$"
   ]
  },
  {
   "cell_type": "code",
   "execution_count": 11,
   "metadata": {},
   "outputs": [
    {
     "data": {
      "image/png": "[encoded data removed]",
      "text/latex": [
       "$\\displaystyle 1.67030166948228$"
      ],
      "text/plain": [
       "1.67030166948228"
      ]
     },
     "execution_count": 11,
     "metadata": {},
     "output_type": "execute_result"
    }
   ],
   "source": [
    "E0_ = nsolve((E - e * sin(E) - pi / 2).subs(e, 0.1), E, 1.5)\n",
    "E0_"
   ]
  },
  {
   "cell_type": "code",
   "execution_count": 12,
   "metadata": {},
   "outputs": [
    {
     "data": {
      "image/png": "[encoded data removed]",
      "text/latex": [
       "$\\displaystyle 1.41593393973007$"
      ],
      "text/plain": [
       "1.41593393973007"
      ]
     },
     "execution_count": 12,
     "metadata": {},
     "output_type": "execute_result"
    }
   ],
   "source": [
    "r_a_ = r_a_eq.subs(E0, E0_).subs(e, 0.1).subs(R0, 1.3)\n",
    "r_a_"
   ]
  },
  {
   "cell_type": "markdown",
   "metadata": {},
   "source": [
    "Let's plot the aphelion $r_a$ versus the eccentricity $e$:"
   ]
  },
  {
   "cell_type": "code",
   "execution_count": 13,
   "metadata": {},
   "outputs": [],
   "source": [
    "def compute_r_a(e_, R0_=1.3):\n",
    "    E0_ = nsolve((E - e * sin(E) - pi / 2).subs(e, e_), (pi / 2).evalf())\n",
    "    return r_a_eq.subs(E0, E0_).subs(e, e_).subs(R0, R0_)"
   ]
  },
  {
   "cell_type": "code",
   "execution_count": 14,
   "metadata": {},
   "outputs": [],
   "source": [
    "e_arr = np.linspace(0, 1, 101)\n",
    "r_a_arr = np.zeros_like(e_arr)\n",
    "\n",
    "for ii, e_ in enumerate(e_arr):\n",
    "    r_a_arr[ii] = float(compute_r_a(e_))"
   ]
  },
  {
   "cell_type": "code",
   "execution_count": 15,
   "metadata": {
    "scrolled": true
   },
   "outputs": [
    {
     "data": {
      "image/png": "[encoded data removed]",
      "text/plain": [
       "<Figure size 432x288 with 1 Axes>"
      ]
     },
     "metadata": {
      "needs_background": "light"
     },
     "output_type": "display_data"
    }
   ],
   "source": [
    "fig, ax = plt.subplots()\n",
    "\n",
    "l, = ax.plot(e_arr, r_a_arr)\n",
    "\n",
    "ax.set_xlabel(\"Eccentricity $e$\")\n",
    "ax.set_ylabel(\"Aphelion $r_a$\")\n",
    "\n",
    "t = ax.set_title(\"Half-split distance equal to $R_0 = 1.3$ AU\")"
   ]
  },
  {
   "cell_type": "markdown",
   "metadata": {},
   "source": [
    "There is a maximum! Let's find it by equating the derivative of $r_a$ with respect to $e$ to zero:"
   ]
  },
  {
   "cell_type": "code",
   "execution_count": 16,
   "metadata": {},
   "outputs": [
    {
     "data": {
      "image/png": "[encoded data removed]",
      "text/latex": [
       "$\\displaystyle - \\frac{R_{0} \\left(e + 1\\right) \\left(e \\sin{\\left(\\operatorname{E_{0}}{\\left(e \\right)} \\right)} \\frac{d}{d e} \\operatorname{E_{0}}{\\left(e \\right)} - \\cos{\\left(\\operatorname{E_{0}}{\\left(e \\right)} \\right)}\\right)}{\\left(e \\cos{\\left(\\operatorname{E_{0}}{\\left(e \\right)} \\right)} - 1\\right)^{2}} - \\frac{R_{0}}{e \\cos{\\left(\\operatorname{E_{0}}{\\left(e \\right)} \\right)} - 1}$"
      ],
      "text/plain": [
       "             ⎛             d                     ⎞                   \n",
       "  R₀⋅(e + 1)⋅⎜e⋅sin(E₀(e))⋅──(E₀(e)) - cos(E₀(e))⎟                   \n",
       "             ⎝             de                    ⎠          R₀       \n",
       "- ──────────────────────────────────────────────── - ────────────────\n",
       "                                  2                  e⋅cos(E₀(e)) - 1\n",
       "                (e⋅cos(E₀(e)) - 1)                                   "
      ]
     },
     "execution_count": 16,
     "metadata": {},
     "output_type": "execute_result"
    }
   ],
   "source": [
    "diff(r_a_eq, e)"
   ]
  },
  {
   "cell_type": "markdown",
   "metadata": {},
   "source": [
    "We solve for $\\frac{d}{de} E_0(e)$ by differentiating the implicit equation:"
   ]
  },
  {
   "cell_type": "code",
   "execution_count": 17,
   "metadata": {},
   "outputs": [
    {
     "data": {
      "image/png": "[encoded data removed]",
      "text/latex": [
       "$\\displaystyle \\sin{\\left(\\operatorname{E_{0}}{\\left(e \\right)} \\right)} = \\frac{\\operatorname{E_{0}}{\\left(e \\right)} - \\frac{\\pi}{2}}{e}$"
      ],
      "text/plain": [
       "                     π\n",
       "             E₀(e) - ─\n",
       "                     2\n",
       "sin(E₀(e)) = ─────────\n",
       "                 e    "
      ]
     },
     "execution_count": 17,
     "metadata": {},
     "output_type": "execute_result"
    }
   ],
   "source": [
    "E0_eq"
   ]
  },
  {
   "cell_type": "code",
   "execution_count": 18,
   "metadata": {},
   "outputs": [
    {
     "data": {
      "image/png": "[encoded data removed]",
      "text/latex": [
       "$\\displaystyle \\frac{- \\operatorname{E_{0}}{\\left(e \\right)} + \\frac{\\pi}{2}}{e \\left(e \\cos{\\left(\\operatorname{E_{0}}{\\left(e \\right)} \\right)} - 1\\right)}$"
      ],
      "text/plain": [
       "              π     \n",
       "     -E₀(e) + ─     \n",
       "              2     \n",
       "────────────────────\n",
       "e⋅(e⋅cos(E₀(e)) - 1)"
      ]
     },
     "execution_count": 18,
     "metadata": {},
     "output_type": "execute_result"
    }
   ],
   "source": [
    "dE0_e = solve(\n",
    "    Eq(\n",
    "        diff(E0_eq.lhs, e),\n",
    "        diff(E0_eq.rhs, e),\n",
    "    ),\n",
    "    diff(E0, e)\n",
    ")[0]\n",
    "dE0_e"
   ]
  },
  {
   "cell_type": "markdown",
   "metadata": {},
   "source": [
    "And now replace:"
   ]
  },
  {
   "cell_type": "code",
   "execution_count": 19,
   "metadata": {},
   "outputs": [
    {
     "data": {
      "image/png": "[encoded data removed]",
      "text/latex": [
       "$\\displaystyle \\frac{R_{0} \\left(\\left(e + 1\\right) \\left(2 \\left(e \\cos{\\left(\\operatorname{E_{0}}{\\left(e \\right)} \\right)} - 1\\right) \\cos{\\left(\\operatorname{E_{0}}{\\left(e \\right)} \\right)} + \\left(2 \\operatorname{E_{0}}{\\left(e \\right)} - \\pi\\right) \\sin{\\left(\\operatorname{E_{0}}{\\left(e \\right)} \\right)}\\right) - 2 \\left(e \\cos{\\left(\\operatorname{E_{0}}{\\left(e \\right)} \\right)} - 1\\right)^{2}\\right)}{2 \\left(e \\cos{\\left(\\operatorname{E_{0}}{\\left(e \\right)} \\right)} - 1\\right)^{3}} = 0$"
      ],
      "text/plain": [
       "   ⎛                                                                          \n",
       "R₀⋅⎝(e + 1)⋅(2⋅(e⋅cos(E₀(e)) - 1)⋅cos(E₀(e)) + (2⋅E₀(e) - π)⋅sin(E₀(e))) - 2⋅(\n",
       "──────────────────────────────────────────────────────────────────────────────\n",
       "                                                          3                   \n",
       "                                      2⋅(e⋅cos(E₀(e)) - 1)                    \n",
       "\n",
       "                 2⎞    \n",
       "e⋅cos(E₀(e)) - 1) ⎠    \n",
       "─────────────────── = 0\n",
       "                       \n",
       "                       "
      ]
     },
     "execution_count": 19,
     "metadata": {},
     "output_type": "execute_result"
    }
   ],
   "source": [
    "max_r_a_eq = Eq(diff(r_a_eq, e).subs(diff(E0, e), dE0_e), 0).simplify()\n",
    "max_r_a_eq"
   ]
  },
  {
   "cell_type": "code",
   "execution_count": 20,
   "metadata": {},
   "outputs": [
    {
     "data": {
      "image/png": "[encoded data removed]",
      "text/latex": [
       "$\\displaystyle \\sin{\\left(\\operatorname{E_{0}}{\\left(e \\right)} \\right)} = \\frac{\\operatorname{E_{0}}{\\left(e \\right)} - \\frac{\\pi}{2}}{e}$"
      ],
      "text/plain": [
       "                     π\n",
       "             E₀(e) - ─\n",
       "                     2\n",
       "sin(E₀(e)) = ─────────\n",
       "                 e    "
      ]
     },
     "execution_count": 20,
     "metadata": {},
     "output_type": "execute_result"
    }
   ],
   "source": [
    "E0_eq"
   ]
  },
  {
   "cell_type": "markdown",
   "metadata": {},
   "source": [
    "We have a system of two nonlinear equations for the eccentricy $e$ and the half-split eccentric anomaly $E_0$. One of them can be trivially solved for $e$, and we can replace that solution in the other one to end with a single equation in $E_0$:"
   ]
  },
  {
   "cell_type": "code",
   "execution_count": 21,
   "metadata": {},
   "outputs": [
    {
     "data": {
      "image/png": "[encoded data removed]",
      "text/latex": [
       "$\\displaystyle E_{0 }$"
      ],
      "text/plain": [
       "E₀ "
      ]
     },
     "execution_count": 21,
     "metadata": {},
     "output_type": "execute_result"
    }
   ],
   "source": [
    "E0_ = symbols(\"E0_\")\n",
    "E0_"
   ]
  },
  {
   "cell_type": "code",
   "execution_count": 22,
   "metadata": {},
   "outputs": [
    {
     "data": {
      "image/png": "[encoded data removed]",
      "text/latex": [
       "$\\displaystyle \\frac{E_{0 } - \\frac{\\pi}{2}}{\\sin{\\left(E_{0 } \\right)}}$"
      ],
      "text/plain": [
       "      π \n",
       "E₀  - ─ \n",
       "      2 \n",
       "────────\n",
       "sin(E₀ )"
      ]
     },
     "execution_count": 22,
     "metadata": {},
     "output_type": "execute_result"
    }
   ],
   "source": [
    "e_ = solve(E0_eq.subs(E0, E0_), e)[0]\n",
    "e_"
   ]
  },
  {
   "cell_type": "code",
   "execution_count": 23,
   "metadata": {},
   "outputs": [
    {
     "data": {
      "image/png": "[encoded data removed]",
      "text/latex": [
       "$\\displaystyle \\frac{R_{0} \\left(\\left(\\frac{E_{0 } - \\frac{\\pi}{2}}{\\sin{\\left(E_{0 } \\right)}} + 1\\right) \\left(\\left(2 E_{0 } - \\pi\\right) \\sin{\\left(E_{0 } \\right)} + 2 \\left(\\frac{\\left(E_{0 } - \\frac{\\pi}{2}\\right) \\cos{\\left(E_{0 } \\right)}}{\\sin{\\left(E_{0 } \\right)}} - 1\\right) \\cos{\\left(E_{0 } \\right)}\\right) - 2 \\left(\\frac{\\left(E_{0 } - \\frac{\\pi}{2}\\right) \\cos{\\left(E_{0 } \\right)}}{\\sin{\\left(E_{0 } \\right)}} - 1\\right)^{2}\\right)}{2 \\left(\\frac{\\left(E_{0 } - \\frac{\\pi}{2}\\right) \\cos{\\left(E_{0 } \\right)}}{\\sin{\\left(E_{0 } \\right)}} - 1\\right)^{3}} = 0$"
      ],
      "text/plain": [
       "   ⎛                                                                          \n",
       "   ⎜⎛      π     ⎞ ⎛                         ⎛⎛      π⎞             ⎞         \n",
       "   ⎜⎜E₀  - ─     ⎟ ⎜                         ⎜⎜E₀  - ─⎟⋅cos(E₀ )    ⎟         \n",
       "   ⎜⎜      2     ⎟ ⎜                         ⎜⎝      2⎠             ⎟         \n",
       "R₀⋅⎜⎜──────── + 1⎟⋅⎜(2⋅E₀  - π)⋅sin(E₀ ) + 2⋅⎜────────────────── - 1⎟⋅cos(E₀ )\n",
       "   ⎝⎝sin(E₀ )    ⎠ ⎝                         ⎝     sin(E₀ )         ⎠         \n",
       "──────────────────────────────────────────────────────────────────────────────\n",
       "                                                                   3          \n",
       "                                           ⎛⎛      π⎞             ⎞           \n",
       "                                           ⎜⎜E₀  - ─⎟⋅cos(E₀ )    ⎟           \n",
       "                                           ⎜⎝      2⎠             ⎟           \n",
       "                                         2⋅⎜────────────────── - 1⎟           \n",
       "                                           ⎝     sin(E₀ )         ⎠           \n",
       "\n",
       "                              2⎞    \n",
       "⎞     ⎛⎛      π⎞             ⎞ ⎟    \n",
       "⎟     ⎜⎜E₀  - ─⎟⋅cos(E₀ )    ⎟ ⎟    \n",
       "⎟     ⎜⎝      2⎠             ⎟ ⎟    \n",
       "⎟ - 2⋅⎜────────────────── - 1⎟ ⎟    \n",
       "⎠     ⎝     sin(E₀ )         ⎠ ⎠    \n",
       "──────────────────────────────── = 0\n",
       "                                    \n",
       "                                    \n",
       "                                    \n",
       "                                    \n",
       "                                    \n",
       "                                    "
      ]
     },
     "execution_count": 23,
     "metadata": {},
     "output_type": "execute_result"
    }
   ],
   "source": [
    "max_r_a_eq_E0 = max_r_a_eq.subs(E0, E0_).subs(e, e_)\n",
    "max_r_a_eq_E0"
   ]
  },
  {
   "cell_type": "markdown",
   "metadata": {},
   "source": [
    "And finally, we solve numerically:"
   ]
  },
  {
   "cell_type": "code",
   "execution_count": 24,
   "metadata": {},
   "outputs": [
    {
     "data": {
      "image/png": "[encoded data removed]",
      "text/latex": [
       "$\\displaystyle 2.0585829282961$"
      ],
      "text/plain": [
       "2.05858292829610"
      ]
     },
     "execution_count": 24,
     "metadata": {},
     "output_type": "execute_result"
    }
   ],
   "source": [
    "E0_max_r_a = nsolve(max_r_a_eq_E0.subs(R0, 1.3).lhs, 2)\n",
    "E0_max_r_a"
   ]
  },
  {
   "cell_type": "code",
   "execution_count": 25,
   "metadata": {},
   "outputs": [
    {
     "data": {
      "image/png": "[encoded data removed]",
      "text/latex": [
       "$\\displaystyle 0.552186838826954$"
      ],
      "text/plain": [
       "0.552186838826954"
      ]
     },
     "execution_count": 25,
     "metadata": {},
     "output_type": "execute_result"
    }
   ],
   "source": [
    "e_max_r_a = e_.subs(E0_, E0_max_r_a).evalf()\n",
    "e_max_r_a"
   ]
  },
  {
   "cell_type": "markdown",
   "metadata": {},
   "source": [
    "Therefore, **the maximum aphelion this peculiar NEO can have is**:"
   ]
  },
  {
   "cell_type": "code",
   "execution_count": 26,
   "metadata": {},
   "outputs": [
    {
     "data": {
      "image/png": "[encoded data removed]",
      "text/latex": [
       "$\\displaystyle 1.60299641170584$"
      ],
      "text/plain": [
       "1.60299641170584"
      ]
     },
     "execution_count": 26,
     "metadata": {},
     "output_type": "execute_result"
    }
   ],
   "source": [
    "max_r_a = r_a_eq.subs(R0, 1.3).subs(E0, E0_max_r_a).subs(e, e_max_r_a)\n",
    "max_r_a"
   ]
  },
  {
   "cell_type": "markdown",
   "metadata": {},
   "source": [
    "■"
   ]
  },
  {
   "cell_type": "markdown",
   "metadata": {},
   "source": [
    "This theoretical value is in fact very close to the actual aphelion of [2020 HY5](http://neo.ssa.esa.int/search-for-asteroids?sum=1&des=2020HY5): 1.609 AU.\n",
    "\n",
    "To find other similar cases, we can pick pairs of (eccentricity, aphelion) that fulfill the condition we analyzed above:"
   ]
  },
  {
   "cell_type": "code",
   "execution_count": 27,
   "metadata": {
    "scrolled": true
   },
   "outputs": [
    {
     "data": {
      "image/png": "[encoded data removed]",
      "text/plain": [
       "<Figure size 432x288 with 1 Axes>"
      ]
     },
     "execution_count": 27,
     "metadata": {},
     "output_type": "execute_result"
    }
   ],
   "source": [
    "fig"
   ]
  },
  {
   "cell_type": "markdown",
   "metadata": {},
   "source": [
    "Alternatively, we can compute the \"time fraction\" $\\tau$: time spent inside $R_0$ over time spent outside:\n",
    "\n",
    "$$\\tau = \\frac{T_i}{T_e} = \\frac{2 n (E_0 - e \\sin{E_0})}{2 n \\pi - 2 n (E_0 - e \\sin{E_0})} =\n",
    "\\frac{E_0 - e \\sin{E_0}}{\\pi - (E_0 - e \\sin{E_0})}\n",
    "$$"
   ]
  },
  {
   "cell_type": "markdown",
   "metadata": {},
   "source": [
    "For that, we explore a grid of $(e, r_a)$ pairs, which give us the shape of the orbit, and compute $E_0$ as the intersection with $R_0$:"
   ]
  },
  {
   "cell_type": "code",
   "execution_count": 28,
   "metadata": {},
   "outputs": [
    {
     "data": {
      "image/png": "[encoded data removed]",
      "text/latex": [
       "$\\displaystyle \\operatorname{acos}{\\left(\\frac{- R_{0} e - R_{0} + r_{a}}{e r_{a}} \\right)}$"
      ],
      "text/plain": [
       "    ⎛-R₀⋅e - R₀ + rₐ⎞\n",
       "acos⎜───────────────⎟\n",
       "    ⎝      e⋅rₐ     ⎠"
      ]
     },
     "execution_count": 28,
     "metadata": {},
     "output_type": "execute_result"
    }
   ],
   "source": [
    "E0_direct = solve(\n",
    "    polar_eq.subs(r, R0).subs(p, r_a * (1 - e)).subs(cos(nu), (cos(E0_) - e) / (1 - e * cos(E0_))),\n",
    "    E0_\n",
    ")[-1]\n",
    "E0_direct"
   ]
  },
  {
   "cell_type": "markdown",
   "metadata": {},
   "source": [
    "which we can then use to calculate $\\tau$:"
   ]
  },
  {
   "cell_type": "code",
   "execution_count": 29,
   "metadata": {},
   "outputs": [
    {
     "data": {
      "image/png": "[encoded data removed]",
      "text/latex": [
       "$\\displaystyle \\frac{E_{0 } - e \\sin{\\left(E_{0 } \\right)}}{- E_{0 } + e \\sin{\\left(E_{0 } \\right)} + \\pi}$"
      ],
      "text/plain": [
       "   E₀  - e⋅sin(E₀ )  \n",
       "─────────────────────\n",
       "-E₀  + e⋅sin(E₀ ) + π"
      ]
     },
     "execution_count": 29,
     "metadata": {},
     "output_type": "execute_result"
    }
   ],
   "source": [
    "tau = (E0_ - e * sin(E0_)) / (pi - (E0_ - e * sin(E0_)))\n",
    "tau"
   ]
  },
  {
   "cell_type": "code",
   "execution_count": 30,
   "metadata": {},
   "outputs": [],
   "source": [
    "e_arr_xx, r_a_arr_yy = np.meshgrid(\n",
    "    np.linspace(0, 1, num=101),\n",
    "    np.linspace(1.3, 1.65, num=101)\n",
    ")\n",
    "\n",
    "tau_xx_yy = np.zeros_like(e_arr_xx)\n",
    "\n",
    "for ii in range(e_arr_xx.shape[0]):\n",
    "    for jj in range(e_arr_xx.shape[1]):\n",
    "        e_ii_jj = e_arr_xx[ii, jj]\n",
    "        r_a_ii_jj = r_a_arr_yy[ii, jj]\n",
    "\n",
    "        try:\n",
    "            E0_ii_jj = float(E0_direct.subs(R0, 1.3).subs(e, e_ii_jj).subs(r_a, r_a_ii_jj))\n",
    "        except TypeError:\n",
    "            # Some solutions are complex\n",
    "            E_ii_jj = float(\"nan\")\n",
    "\n",
    "        tau_xx_yy[ii, jj] = float(tau.subs(e, e_ii_jj).subs(E0_, E0_ii_jj))"
   ]
  },
  {
   "cell_type": "markdown",
   "metadata": {},
   "source": [
    "And now we visualize it:"
   ]
  },
  {
   "cell_type": "code",
   "execution_count": 31,
   "metadata": {},
   "outputs": [
    {
     "data": {
      "image/png": "[encoded data removed]",
      "text/plain": [
       "<Figure size 864x432 with 2 Axes>"
      ]
     },
     "metadata": {
      "needs_background": "light"
     },
     "output_type": "display_data"
    }
   ],
   "source": [
    "fig, ax = plt.subplots(figsize=(12, 6))\n",
    "\n",
    "c = ax.contourf(\n",
    "    e_arr_xx, r_a_arr_yy, tau_xx_yy,\n",
    "    levels=np.linspace(0, 2, 17), cmap=plt.cm.RdYlGn,\n",
    ")\n",
    "ax.plot(e_arr, r_a_arr, color=\"black\", label=r\"$\\tau = 1$\")\n",
    "\n",
    "ax.plot(\n",
    "    e_max_r_a, max_r_a, \"x\", markeredgewidth=2, color=\"red\", markersize=10,\n",
    "    label=r\"Max $r_a$ with $\\tau = 1$\"\n",
    ")\n",
    "\n",
    "ax.text(0.34, 1.53, \"More time\\ninside $R_0$\", {\"fontsize\": 16}, rotation=15)\n",
    "ax.text(0.30, 1.59, \"More time\\noutside $R_0$\", {\"fontsize\": 16}, rotation=15)\n",
    "\n",
    "ax.legend()\n",
    "\n",
    "ax.set_xlabel(\"Eccentricity $e$\")\n",
    "ax.set_ylabel(\"Aphelion $r_a$\")\n",
    "\n",
    "t = ax.set_title(\"Time fraction\")\n",
    "\n",
    "cb = fig.colorbar(c)"
   ]
  },
  {
   "cell_type": "markdown",
   "metadata": {},
   "source": [
    "For example, the region with $e \\in [0.4, 0.8]$ and $r_a \\in [1.5, 1.6]$ will have a time fraction close to 1. Using these filters in the [ESA NEO Coordination Centre Advanced Search](http://neo.ssa.esa.int/advanced-search), we find about 150 examples, like [1865 Cerberus](http://neo.ssa.esa.int/search-for-asteroids?sum=1&des=1865%20Cerberus):\n",
    "\n",
    "- Perihelion: 0.576 AU\n",
    "- Aphelion: 1.584 AU\n",
    "- Eccentricity: 0.467\n",
    "- Period: 409.9 days\n",
    "\n",
    "The eccentric anomaly of the intersection at $R_0$ is:"
   ]
  },
  {
   "cell_type": "code",
   "execution_count": 32,
   "metadata": {},
   "outputs": [
    {
     "data": {
      "image/png": "[encoded data removed]",
      "text/latex": [
       "$\\displaystyle 2.02281479269706$"
      ],
      "text/plain": [
       "2.02281479269706"
      ]
     },
     "execution_count": 32,
     "metadata": {},
     "output_type": "execute_result"
    }
   ],
   "source": [
    "E0_1865_Cerberus = E0_direct.subs(R0, 1.3).subs(e, 0.467).subs(r_a, 1.584)\n",
    "E0_1865_Cerberus"
   ]
  },
  {
   "cell_type": "markdown",
   "metadata": {},
   "source": [
    "And its time fraction is:"
   ]
  },
  {
   "cell_type": "code",
   "execution_count": 33,
   "metadata": {},
   "outputs": [
    {
     "data": {
      "image/png": "[encoded data removed]",
      "text/latex": [
       "$\\displaystyle 1.04148552386798$"
      ],
      "text/plain": [
       "1.04148552386798"
      ]
     },
     "execution_count": 33,
     "metadata": {},
     "output_type": "execute_result"
    }
   ],
   "source": [
    "tau_1865_Cerberus = tau.subs(e, 0.467).subs(E0_, E0_1865_Cerberus).evalf()\n",
    "tau_1865_Cerberus"
   ]
  },
  {
   "cell_type": "code",
   "execution_count": 34,
   "metadata": {},
   "outputs": [
    {
     "data": {
      "image/png": "[encoded data removed]",
      "text/latex": [
       "$\\displaystyle 209.114838798677$"
      ],
      "text/plain": [
       "209.114838798677"
      ]
     },
     "execution_count": 34,
     "metadata": {},
     "output_type": "execute_result"
    }
   ],
   "source": [
    "tau_1865_Cerberus / (1 + tau_1865_Cerberus) * 409.9"
   ]
  },
  {
   "cell_type": "markdown",
   "metadata": {},
   "source": [
    "Therefore, it spends about 209 days inside $R_0 = 1.3$ AU, and 200 days outside that radius."
   ]
  },
  {
   "cell_type": "markdown",
   "metadata": {},
   "source": [
    "On the other hand, [2005EP1](http://neo.ssa.esa.int/search-for-asteroids?sum=1&des=2005EP1) has this orbit:\n",
    "\n",
    "- Perihelion: 0.205 AU\n",
    "- Aphelion: 1.58 AU\n",
    "- Eccentricity: 0.77\n",
    "- Period: 307.9 days"
   ]
  },
  {
   "cell_type": "code",
   "execution_count": 35,
   "metadata": {},
   "outputs": [
    {
     "data": {
      "image/png": "[encoded data removed]",
      "text/latex": [
       "$\\displaystyle 2.20512288739605$"
      ],
      "text/plain": [
       "2.20512288739605"
      ]
     },
     "execution_count": 35,
     "metadata": {},
     "output_type": "execute_result"
    }
   ],
   "source": [
    "E0_2005EP1 = E0_direct.subs(R0, 1.3).subs(e, 0.77).subs(r_a, 1.58)\n",
    "E0_2005EP1"
   ]
  },
  {
   "cell_type": "code",
   "execution_count": 36,
   "metadata": {},
   "outputs": [
    {
     "data": {
      "image/png": "[encoded data removed]",
      "text/latex": [
       "$\\displaystyle 1.01813331156904$"
      ],
      "text/plain": [
       "1.01813331156904"
      ]
     },
     "execution_count": 36,
     "metadata": {},
     "output_type": "execute_result"
    }
   ],
   "source": [
    "tau_2005EP1 = tau.subs(e, 0.77).subs(E0_, E0_2005EP1).evalf()\n",
    "tau_2005EP1"
   ]
  },
  {
   "cell_type": "code",
   "execution_count": 37,
   "metadata": {},
   "outputs": [
    {
     "data": {
      "image/png": "[encoded data removed]",
      "text/latex": [
       "$\\displaystyle 155.333270024854$"
      ],
      "text/plain": [
       "155.333270024854"
      ]
     },
     "execution_count": 37,
     "metadata": {},
     "output_type": "execute_result"
    }
   ],
   "source": [
    "tau_2005EP1 / (1 + tau_2005EP1) * 307.9"
   ]
  },
  {
   "cell_type": "markdown",
   "metadata": {},
   "source": [
    "This one spends 155 days inside, and 153 days outside."
   ]
  },
  {
   "cell_type": "markdown",
   "metadata": {},
   "source": [
    "## References\n",
    "\n",
    "1. Battin, R. (1999). _An introduction to the mathematics and methods of astrodynamics, revised edition_. American Institute of Aeronautics and Astronautics."
   ]
  }
 ],
 "metadata": {
  "kernelspec": {
   "display_name": "Python 3",
   "language": "python",
   "name": "python3"
  },
  "language_info": {
   "codemirror_mode": {
    "name": "ipython",
    "version": 3
   },
   "file_extension": ".py",
   "mimetype": "text/x-python",
   "name": "python",
   "nbconvert_exporter": "python",
   "pygments_lexer": "ipython3",
   "version": "3.8.3"
  }
 },
 "nbformat": 4,
 "nbformat_minor": 4
}
